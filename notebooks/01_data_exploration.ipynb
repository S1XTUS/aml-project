{
 "cells": [
  {
   "cell_type": "code",
   "execution_count": 1,
   "metadata": {},
   "outputs": [],
   "source": [
    "import sys\n",
    "import os\n",
    "sys.path.append(os.path.abspath(\"..\"))  # Add D:\\AML\\ to path\n",
    "\n",
    "from src.data.load_data import load_and_clean_data\n",
    "import pandas as pd\n",
    "import matplotlib.pyplot as plt\n",
    "import seaborn as sns\n",
    "import yaml\n",
    "\n"
   ]
  },
  {
   "cell_type": "code",
   "execution_count": 2,
   "metadata": {},
   "outputs": [
    {
     "name": "stdout",
     "output_type": "stream",
     "text": [
      "Data Shape:  (6924049, 11)\n"
     ]
    },
    {
     "data": {
      "text/html": [
       "<div>\n",
       "<style scoped>\n",
       "    .dataframe tbody tr th:only-of-type {\n",
       "        vertical-align: middle;\n",
       "    }\n",
       "\n",
       "    .dataframe tbody tr th {\n",
       "        vertical-align: top;\n",
       "    }\n",
       "\n",
       "    .dataframe thead th {\n",
       "        text-align: right;\n",
       "    }\n",
       "</style>\n",
       "<table border=\"1\" class=\"dataframe\">\n",
       "  <thead>\n",
       "    <tr style=\"text-align: right;\">\n",
       "      <th></th>\n",
       "      <th>Timestamp</th>\n",
       "      <th>From_Bank</th>\n",
       "      <th>From_Account</th>\n",
       "      <th>To_Bank</th>\n",
       "      <th>To_Account</th>\n",
       "      <th>Amount_Received</th>\n",
       "      <th>Receiving_Currency</th>\n",
       "      <th>Amount_Paid</th>\n",
       "      <th>Payment_Currency</th>\n",
       "      <th>Payment_Format</th>\n",
       "      <th>Is_Laundering</th>\n",
       "    </tr>\n",
       "  </thead>\n",
       "  <tbody>\n",
       "    <tr>\n",
       "      <th>0</th>\n",
       "      <td>2022-09-01 00:08:00</td>\n",
       "      <td>11</td>\n",
       "      <td>8000ECA90</td>\n",
       "      <td>11</td>\n",
       "      <td>8000ECA90</td>\n",
       "      <td>3195403.00</td>\n",
       "      <td>US Dollar</td>\n",
       "      <td>3195403.00</td>\n",
       "      <td>US Dollar</td>\n",
       "      <td>Reinvestment</td>\n",
       "      <td>0</td>\n",
       "    </tr>\n",
       "    <tr>\n",
       "      <th>1</th>\n",
       "      <td>2022-09-01 00:21:00</td>\n",
       "      <td>3402</td>\n",
       "      <td>80021DAD0</td>\n",
       "      <td>3402</td>\n",
       "      <td>80021DAD0</td>\n",
       "      <td>1858.96</td>\n",
       "      <td>US Dollar</td>\n",
       "      <td>1858.96</td>\n",
       "      <td>US Dollar</td>\n",
       "      <td>Reinvestment</td>\n",
       "      <td>0</td>\n",
       "    </tr>\n",
       "    <tr>\n",
       "      <th>2</th>\n",
       "      <td>2022-09-01 00:00:00</td>\n",
       "      <td>11</td>\n",
       "      <td>8000ECA90</td>\n",
       "      <td>1120</td>\n",
       "      <td>8006AA910</td>\n",
       "      <td>592571.00</td>\n",
       "      <td>US Dollar</td>\n",
       "      <td>592571.00</td>\n",
       "      <td>US Dollar</td>\n",
       "      <td>Cheque</td>\n",
       "      <td>0</td>\n",
       "    </tr>\n",
       "    <tr>\n",
       "      <th>3</th>\n",
       "      <td>2022-09-01 00:16:00</td>\n",
       "      <td>3814</td>\n",
       "      <td>8006AD080</td>\n",
       "      <td>3814</td>\n",
       "      <td>8006AD080</td>\n",
       "      <td>12.32</td>\n",
       "      <td>US Dollar</td>\n",
       "      <td>12.32</td>\n",
       "      <td>US Dollar</td>\n",
       "      <td>Reinvestment</td>\n",
       "      <td>0</td>\n",
       "    </tr>\n",
       "    <tr>\n",
       "      <th>4</th>\n",
       "      <td>2022-09-01 00:00:00</td>\n",
       "      <td>20</td>\n",
       "      <td>8006AD530</td>\n",
       "      <td>20</td>\n",
       "      <td>8006AD530</td>\n",
       "      <td>2941.56</td>\n",
       "      <td>US Dollar</td>\n",
       "      <td>2941.56</td>\n",
       "      <td>US Dollar</td>\n",
       "      <td>Reinvestment</td>\n",
       "      <td>0</td>\n",
       "    </tr>\n",
       "  </tbody>\n",
       "</table>\n",
       "</div>"
      ],
      "text/plain": [
       "            Timestamp  From_Bank From_Account  To_Bank To_Account  \\\n",
       "0 2022-09-01 00:08:00         11    8000ECA90       11  8000ECA90   \n",
       "1 2022-09-01 00:21:00       3402    80021DAD0     3402  80021DAD0   \n",
       "2 2022-09-01 00:00:00         11    8000ECA90     1120  8006AA910   \n",
       "3 2022-09-01 00:16:00       3814    8006AD080     3814  8006AD080   \n",
       "4 2022-09-01 00:00:00         20    8006AD530       20  8006AD530   \n",
       "\n",
       "   Amount_Received Receiving_Currency  Amount_Paid Payment_Currency  \\\n",
       "0       3195403.00          US Dollar   3195403.00        US Dollar   \n",
       "1          1858.96          US Dollar      1858.96        US Dollar   \n",
       "2        592571.00          US Dollar    592571.00        US Dollar   \n",
       "3            12.32          US Dollar        12.32        US Dollar   \n",
       "4          2941.56          US Dollar      2941.56        US Dollar   \n",
       "\n",
       "  Payment_Format  Is_Laundering  \n",
       "0   Reinvestment              0  \n",
       "1   Reinvestment              0  \n",
       "2         Cheque              0  \n",
       "3   Reinvestment              0  \n",
       "4   Reinvestment              0  "
      ]
     },
     "execution_count": 2,
     "metadata": {},
     "output_type": "execute_result"
    }
   ],
   "source": [
    "df = load_and_clean_data()\n",
    "print(\"Data Shape: \" , df.shape)\n",
    "df.head()"
   ]
  },
  {
   "cell_type": "code",
   "execution_count": 3,
   "metadata": {},
   "outputs": [
    {
     "name": "stdout",
     "output_type": "stream",
     "text": [
      "<class 'pandas.core.frame.DataFrame'>\n",
      "RangeIndex: 6924049 entries, 0 to 6924048\n",
      "Data columns (total 11 columns):\n",
      " #   Column              Dtype         \n",
      "---  ------              -----         \n",
      " 0   Timestamp           datetime64[ns]\n",
      " 1   From_Bank           int64         \n",
      " 2   From_Account        object        \n",
      " 3   To_Bank             int64         \n",
      " 4   To_Account          object        \n",
      " 5   Amount_Received     float64       \n",
      " 6   Receiving_Currency  object        \n",
      " 7   Amount_Paid         float64       \n",
      " 8   Payment_Currency    object        \n",
      " 9   Payment_Format      object        \n",
      " 10  Is_Laundering       int64         \n",
      "dtypes: datetime64[ns](1), float64(2), int64(3), object(5)\n",
      "memory usage: 581.1+ MB\n",
      "\n",
      "Missing values:\n",
      "Timestamp             0\n",
      "From_Bank             0\n",
      "From_Account          0\n",
      "To_Bank               0\n",
      "To_Account            0\n",
      "Amount_Received       0\n",
      "Receiving_Currency    0\n",
      "Amount_Paid           0\n",
      "Payment_Currency      0\n",
      "Payment_Format        0\n",
      "Is_Laundering         0\n",
      "dtype: int64\n"
     ]
    }
   ],
   "source": [
    "df.info()\n",
    "\n",
    "print(\"\\nMissing values:\")\n",
    "print(df.isnull().sum())\n"
   ]
  },
  {
   "cell_type": "code",
   "execution_count": 4,
   "metadata": {},
   "outputs": [
    {
     "data": {
      "image/png": "[encoded data removed]",
      "text/plain": [
       "<Figure size 640x480 with 1 Axes>"
      ]
     },
     "metadata": {},
     "output_type": "display_data"
    },
    {
     "name": "stdout",
     "output_type": "stream",
     "text": [
      "Percentage of laundering cases: 0.05%\n"
     ]
    }
   ],
   "source": [
    "sns.countplot(data=df, x=\"Is_Laundering\")\n",
    "plt.title(\"Class Distribution: Is_Laundering\")\n",
    "plt.xlabel(\"0 = Legitimate, 1 = Suspicious\")\n",
    "plt.ylabel(\"Count\")\n",
    "plt.show()\n",
    "\n",
    "# Percentage\n",
    "fraud_pct = df['Is_Laundering'].mean() * 100\n",
    "print(f\"Percentage of laundering cases: {fraud_pct:.2f}%\")\n"
   ]
  },
  {
   "cell_type": "code",
   "execution_count": 5,
   "metadata": {},
   "outputs": [
    {
     "data": {
      "text/html": [
       "<div>\n",
       "<style scoped>\n",
       "    .dataframe tbody tr th:only-of-type {\n",
       "        vertical-align: middle;\n",
       "    }\n",
       "\n",
       "    .dataframe tbody tr th {\n",
       "        vertical-align: top;\n",
       "    }\n",
       "\n",
       "    .dataframe thead th {\n",
       "        text-align: right;\n",
       "    }\n",
       "</style>\n",
       "<table border=\"1\" class=\"dataframe\">\n",
       "  <thead>\n",
       "    <tr style=\"text-align: right;\">\n",
       "      <th></th>\n",
       "      <th>Timestamp</th>\n",
       "      <th>From_Bank</th>\n",
       "      <th>To_Bank</th>\n",
       "      <th>Amount_Received</th>\n",
       "      <th>Amount_Paid</th>\n",
       "      <th>Is_Laundering</th>\n",
       "    </tr>\n",
       "  </thead>\n",
       "  <tbody>\n",
       "    <tr>\n",
       "      <th>count</th>\n",
       "      <td>6924049</td>\n",
       "      <td>6.924049e+06</td>\n",
       "      <td>6.924049e+06</td>\n",
       "      <td>6.924049e+06</td>\n",
       "      <td>6.924049e+06</td>\n",
       "      <td>6.924049e+06</td>\n",
       "    </tr>\n",
       "    <tr>\n",
       "      <th>mean</th>\n",
       "      <td>2022-09-05 07:09:11.289011456</td>\n",
       "      <td>5.938718e+04</td>\n",
       "      <td>8.441702e+04</td>\n",
       "      <td>6.324067e+06</td>\n",
       "      <td>4.676036e+06</td>\n",
       "      <td>5.148722e-04</td>\n",
       "    </tr>\n",
       "    <tr>\n",
       "      <th>min</th>\n",
       "      <td>2022-09-01 00:00:00</td>\n",
       "      <td>0.000000e+00</td>\n",
       "      <td>0.000000e+00</td>\n",
       "      <td>1.000000e-06</td>\n",
       "      <td>1.000000e-06</td>\n",
       "      <td>0.000000e+00</td>\n",
       "    </tr>\n",
       "    <tr>\n",
       "      <th>25%</th>\n",
       "      <td>2022-09-02 04:26:00</td>\n",
       "      <td>2.190000e+02</td>\n",
       "      <td>1.125500e+04</td>\n",
       "      <td>1.742100e+02</td>\n",
       "      <td>1.753800e+02</td>\n",
       "      <td>0.000000e+00</td>\n",
       "    </tr>\n",
       "    <tr>\n",
       "      <th>50%</th>\n",
       "      <td>2022-09-05 12:12:00</td>\n",
       "      <td>1.419500e+04</td>\n",
       "      <td>2.964000e+04</td>\n",
       "      <td>1.397620e+03</td>\n",
       "      <td>1.399440e+03</td>\n",
       "      <td>0.000000e+00</td>\n",
       "    </tr>\n",
       "    <tr>\n",
       "      <th>75%</th>\n",
       "      <td>2022-09-08 03:04:00</td>\n",
       "      <td>1.106820e+05</td>\n",
       "      <td>1.480400e+05</td>\n",
       "      <td>1.229633e+04</td>\n",
       "      <td>1.222687e+04</td>\n",
       "      <td>0.000000e+00</td>\n",
       "    </tr>\n",
       "    <tr>\n",
       "      <th>max</th>\n",
       "      <td>2022-09-17 15:28:00</td>\n",
       "      <td>3.769670e+05</td>\n",
       "      <td>3.769670e+05</td>\n",
       "      <td>3.644854e+12</td>\n",
       "      <td>3.644854e+12</td>\n",
       "      <td>1.000000e+00</td>\n",
       "    </tr>\n",
       "    <tr>\n",
       "      <th>std</th>\n",
       "      <td>NaN</td>\n",
       "      <td>9.051700e+04</td>\n",
       "      <td>9.064562e+04</td>\n",
       "      <td>2.105371e+09</td>\n",
       "      <td>1.544099e+09</td>\n",
       "      <td>2.268495e-02</td>\n",
       "    </tr>\n",
       "  </tbody>\n",
       "</table>\n",
       "</div>"
      ],
      "text/plain": [
       "                           Timestamp     From_Bank       To_Bank  \\\n",
       "count                        6924049  6.924049e+06  6.924049e+06   \n",
       "mean   2022-09-05 07:09:11.289011456  5.938718e+04  8.441702e+04   \n",
       "min              2022-09-01 00:00:00  0.000000e+00  0.000000e+00   \n",
       "25%              2022-09-02 04:26:00  2.190000e+02  1.125500e+04   \n",
       "50%              2022-09-05 12:12:00  1.419500e+04  2.964000e+04   \n",
       "75%              2022-09-08 03:04:00  1.106820e+05  1.480400e+05   \n",
       "max              2022-09-17 15:28:00  3.769670e+05  3.769670e+05   \n",
       "std                              NaN  9.051700e+04  9.064562e+04   \n",
       "\n",
       "       Amount_Received   Amount_Paid  Is_Laundering  \n",
       "count     6.924049e+06  6.924049e+06   6.924049e+06  \n",
       "mean      6.324067e+06  4.676036e+06   5.148722e-04  \n",
       "min       1.000000e-06  1.000000e-06   0.000000e+00  \n",
       "25%       1.742100e+02  1.753800e+02   0.000000e+00  \n",
       "50%       1.397620e+03  1.399440e+03   0.000000e+00  \n",
       "75%       1.229633e+04  1.222687e+04   0.000000e+00  \n",
       "max       3.644854e+12  3.644854e+12   1.000000e+00  \n",
       "std       2.105371e+09  1.544099e+09   2.268495e-02  "
      ]
     },
     "execution_count": 5,
     "metadata": {},
     "output_type": "execute_result"
    }
   ],
   "source": [
    "df.describe()"
   ]
  },
  {
   "cell_type": "code",
   "execution_count": 6,
   "metadata": {},
   "outputs": [
    {
     "data": {
      "image/png": "[encoded data removed]",
      "text/plain": [
       "<Figure size 1400x500 with 2 Axes>"
      ]
     },
     "metadata": {},
     "output_type": "display_data"
    }
   ],
   "source": [
    "fig, axes = plt.subplots(1, 2, figsize=(14, 5))\n",
    "sns.histplot(df['Amount_Received'], bins=50, kde=True, ax=axes[0])\n",
    "axes[0].set_title(\"Amount Received Distribution\")\n",
    "\n",
    "sns.histplot(df['Amount_Paid'], bins=50, kde=True, ax=axes[1])\n",
    "axes[1].set_title(\"Amount Paid Distribution\")\n",
    "\n",
    "plt.tight_layout()\n",
    "plt.show()\n"
   ]
  },
  {
   "cell_type": "code",
   "execution_count": 7,
   "metadata": {},
   "outputs": [
    {
     "name": "stdout",
     "output_type": "stream",
     "text": [
      "Cleaned and enriched dataset saved to ..\\data\\processed\\LI-Small_Trans.csv\n"
     ]
    }
   ],
   "source": [
    "# Save cleaned version\n",
    "with open(\"../config.yaml\") as f:\n",
    "    config = yaml.safe_load(f)\n",
    "\n",
    "processed_path = os.path.join(\"..\", config['paths']['processed_data'])\n",
    "os.makedirs(os.path.dirname(processed_path), exist_ok=True)\n",
    "df.to_csv(processed_path, index=False)\n",
    "\n",
    "print(f\"Cleaned and enriched dataset saved to {processed_path}\")\n"
   ]
  }
 ],
 "metadata": {
  "kernelspec": {
   "display_name": "AML",
   "language": "python",
   "name": "python3"
  },
  "language_info": {
   "codemirror_mode": {
    "name": "ipython",
    "version": 3
   },
   "file_extension": ".py",
   "mimetype": "text/x-python",
   "name": "python",
   "nbconvert_exporter": "python",
   "pygments_lexer": "ipython3",
   "version": "3.11.13"
  }
 },
 "nbformat": 4,
 "nbformat_minor": 2
}
